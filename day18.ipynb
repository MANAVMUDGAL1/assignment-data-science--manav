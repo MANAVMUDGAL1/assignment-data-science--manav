{
 "cells": [
  {
   "cell_type": "markdown",
   "metadata": {},
   "source": [
    "Question No. 1 Write a Python function called merge_lists that takes two lists as input \n",
    "and returns a new list containing all elements from both input lists, \n",
    "with duplicates removed."
   ]
  },
  {
   "cell_type": "code",
   "execution_count": 17,
   "metadata": {},
   "outputs": [
    {
     "name": "stdout",
     "output_type": "stream",
     "text": [
      "[1, 2, 3, 4, 5, 6, 89, 230]\n"
     ]
    }
   ],
   "source": [
    "def merge_list(i,j):\n",
    "    lst=[]\n",
    "    for p in i:\n",
    "        lst.append(p)\n",
    "\n",
    "    for q in j:\n",
    "        lst.append(q)    \n",
    "\n",
    "    # lst1=set(lst)\n",
    "    l=list(set(lst))\n",
    "    l.sort()\n",
    "    print(l)\n",
    "\n",
    "lst1=[1,2,2,2,3,3,3,4,4,4]   \n",
    "lst2=[230,230,6,3,3,3,89,5]\n",
    "\n",
    "merge_list(lst1,lst2)\n",
    "\n"
   ]
  },
  {
   "cell_type": "markdown",
   "metadata": {},
   "source": [
    "Question No. 2 Write a Python function called list_intersection that takes two lists as \n",
    "input and returns a new list containing elements that are common to \n",
    "both input lists."
   ]
  },
  {
   "cell_type": "code",
   "execution_count": 18,
   "metadata": {},
   "outputs": [
    {
     "name": "stdout",
     "output_type": "stream",
     "text": [
      "[3]\n"
     ]
    }
   ],
   "source": [
    "def list_intersection(i,j):\n",
    "    lst=[]\n",
    "    for p in i:\n",
    "        for q in j:\n",
    "            if p==q:\n",
    "                lst.append(q)\n",
    "\n",
    "    lst1=list(set(lst)) \n",
    "    lst1.sort()\n",
    "    print(lst1)\n",
    "\n",
    "\n",
    "lst1=[1,2,2,2,3,3,3,4,4,4]   \n",
    "lst2=[230,230,6,3,3,3,89,5] \n",
    "\n",
    "list_intersection(lst1,lst2)\n",
    "                \n",
    "        "
   ]
  }
 ],
 "metadata": {
  "kernelspec": {
   "display_name": "Python 3",
   "language": "python",
   "name": "python3"
  },
  "language_info": {
   "codemirror_mode": {
    "name": "ipython",
    "version": 3
   },
   "file_extension": ".py",
   "mimetype": "text/x-python",
   "name": "python",
   "nbconvert_exporter": "python",
   "pygments_lexer": "ipython3",
   "version": "3.12.3"
  }
 },
 "nbformat": 4,
 "nbformat_minor": 2
}
