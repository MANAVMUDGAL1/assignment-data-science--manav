{
 "cells": [
  {
   "cell_type": "markdown",
   "metadata": {},
   "source": [
    "Question 1.\n",
    "                        Create a numpy array with filling random values, and shape of array \n",
    "should be (12,5), and pass this array from a user-defined function, and \n",
    "function should be able to return average, minimum, maximum, and \n",
    "no. of evens in your last row. \n",
    "For e.g. consider this is last row [41,52,63,96,85], \n",
    "Output:\n",
    "Average -> 67.4\n",
    "Minimum -> 41\n",
    "Maximum -> 96\n",
    "No. of evens -> 2\n"
   ]
  },
  {
   "cell_type": "code",
   "execution_count": 2,
   "metadata": {},
   "outputs": [],
   "source": [
    "import numpy as np\n"
   ]
  },
  {
   "cell_type": "code",
   "execution_count": 3,
   "metadata": {},
   "outputs": [
    {
     "data": {
      "text/plain": [
       "array([[11, 33, 25,  4, 13],\n",
       "       [24, 50,  5, 44, 54],\n",
       "       [25,  9, 17, 28, 17],\n",
       "       [47, 19, 49, 21, 48],\n",
       "       [48,  9, 36, 49, 13],\n",
       "       [16,  1, 29,  8, 14],\n",
       "       [12, 39, 52, 53, 14],\n",
       "       [33,  5, 57, 53, 18],\n",
       "       [11, 25, 23, 25, 56],\n",
       "       [15, 34,  6, 16, 24],\n",
       "       [15, 50, 17, 22,  7],\n",
       "       [ 2,  2, 26, 43, 44]])"
      ]
     },
     "execution_count": 3,
     "metadata": {},
     "output_type": "execute_result"
    }
   ],
   "source": [
    "arr1=np.random.randint(1,60,60).reshape(12,5)\n",
    "arr1"
   ]
  },
  {
   "cell_type": "code",
   "execution_count": 4,
   "metadata": {},
   "outputs": [
    {
     "data": {
      "text/plain": [
       "2"
      ]
     },
     "execution_count": 4,
     "metadata": {},
     "output_type": "execute_result"
    }
   ],
   "source": [
    "arr1.ndim"
   ]
  },
  {
   "cell_type": "code",
   "execution_count": 5,
   "metadata": {},
   "outputs": [
    {
     "name": "stdout",
     "output_type": "stream",
     "text": [
      "average-> 17.2\n",
      "average-> 35.4\n",
      "average-> 19.2\n",
      "average-> 36.8\n",
      "average-> 31.0\n",
      "average-> 13.6\n",
      "average-> 34.0\n",
      "average-> 33.2\n",
      "average-> 28.0\n",
      "average-> 19.0\n",
      "average-> 22.2\n",
      "average-> 23.4\n"
     ]
    }
   ],
   "source": [
    "def average(arr1):\n",
    "    for i in arr1:\n",
    "        avg=0\n",
    "        sum=0\n",
    "        for j in i:\n",
    "            sum=sum +j\n",
    "        avg=sum/5\n",
    "        print(\"average->\",avg)\n",
    "\n",
    "\n",
    "average(arr1)"
   ]
  },
  {
   "cell_type": "code",
   "execution_count": 6,
   "metadata": {},
   "outputs": [
    {
     "name": "stdout",
     "output_type": "stream",
     "text": [
      "maximum-> 33\n",
      "maximum-> 54\n",
      "maximum-> 28\n",
      "maximum-> 49\n",
      "maximum-> 49\n",
      "maximum-> 29\n",
      "maximum-> 53\n",
      "maximum-> 57\n",
      "maximum-> 56\n",
      "maximum-> 34\n",
      "maximum-> 50\n",
      "maximum-> 44\n"
     ]
    }
   ],
   "source": [
    "def maximum(arr1):\n",
    "    for i in arr1:\n",
    "        max=0\n",
    "        for j in i:\n",
    "            if j>max:\n",
    "                max=j\n",
    "        \n",
    "        print(\"maximum->\",max)\n",
    "\n",
    "\n",
    "maximum(arr1)"
   ]
  },
  {
   "cell_type": "code",
   "execution_count": 7,
   "metadata": {},
   "outputs": [
    {
     "name": "stdout",
     "output_type": "stream",
     "text": [
      "minimum-> 4\n",
      "minimum-> 5\n",
      "minimum-> 9\n",
      "minimum-> 19\n",
      "minimum-> 9\n",
      "minimum-> 1\n",
      "minimum-> 12\n",
      "minimum-> 5\n",
      "minimum-> 11\n",
      "minimum-> 6\n",
      "minimum-> 7\n",
      "minimum-> 2\n"
     ]
    }
   ],
   "source": [
    "def minimum(arr1):\n",
    "    for i in arr1:\n",
    "        min=10000000000\n",
    "        for j in i:\n",
    "\n",
    "            if j<min:\n",
    "                min=j\n",
    "        \n",
    "        print(\"minimum->\",min)\n",
    "\n",
    "\n",
    "minimum(arr1)"
   ]
  },
  {
   "cell_type": "code",
   "execution_count": 8,
   "metadata": {},
   "outputs": [
    {
     "name": "stdout",
     "output_type": "stream",
     "text": [
      "NO. of evens-> 1\n",
      "NO. of evens-> 4\n",
      "NO. of evens-> 1\n",
      "NO. of evens-> 1\n",
      "NO. of evens-> 2\n",
      "NO. of evens-> 3\n",
      "NO. of evens-> 3\n",
      "NO. of evens-> 1\n",
      "NO. of evens-> 1\n",
      "NO. of evens-> 4\n",
      "NO. of evens-> 2\n",
      "NO. of evens-> 4\n"
     ]
    }
   ],
   "source": [
    "def evens(arr1):\n",
    "    for i in arr1:\n",
    "        even=0\n",
    "        for j in i:\n",
    "            if j%2==0:\n",
    "                even=even+1\n",
    "\n",
    "        print(\"NO. of evens->\",even)        \n",
    "\n",
    "\n",
    "evens(arr1)"
   ]
  },
  {
   "cell_type": "markdown",
   "metadata": {},
   "source": [
    "Question No.2\n",
    "Let’s consider we have an array, e.g.\n",
    "[[1 2 3 ],\n",
    "[4 5 6 ],\n",
    "[7 8 9 ]]\n",
    "And apply slicing techniques to get reversed order elements of all the rows, \n",
    "like this -> [[3 2 1],\n",
    " [6 5 4],\n",
    " [9 8 7]]\n"
   ]
  },
  {
   "cell_type": "code",
   "execution_count": 9,
   "metadata": {},
   "outputs": [
    {
     "data": {
      "text/plain": [
       "array([[1, 2, 3],\n",
       "       [4, 5, 6],\n",
       "       [7, 8, 9]])"
      ]
     },
     "execution_count": 9,
     "metadata": {},
     "output_type": "execute_result"
    }
   ],
   "source": [
    "a=np.array([[1,2,3 ],[4 ,5 ,6 ],[7 ,8, 9 ]])\n",
    "a"
   ]
  },
  {
   "cell_type": "code",
   "execution_count": 10,
   "metadata": {},
   "outputs": [
    {
     "data": {
      "text/plain": [
       "2"
      ]
     },
     "execution_count": 10,
     "metadata": {},
     "output_type": "execute_result"
    }
   ],
   "source": [
    "a.ndim"
   ]
  },
  {
   "cell_type": "code",
   "execution_count": 11,
   "metadata": {},
   "outputs": [
    {
     "data": {
      "text/plain": [
       "array([[3, 2, 1],\n",
       "       [6, 5, 4],\n",
       "       [9, 8, 7]])"
      ]
     },
     "execution_count": 11,
     "metadata": {},
     "output_type": "execute_result"
    }
   ],
   "source": [
    "a[:,::-1]"
   ]
  },
  {
   "cell_type": "code",
   "execution_count": null,
   "metadata": {},
   "outputs": [],
   "source": []
  }
 ],
 "metadata": {
  "kernelspec": {
   "display_name": "Python 3",
   "language": "python",
   "name": "python3"
  },
  "language_info": {
   "codemirror_mode": {
    "name": "ipython",
    "version": 3
   },
   "file_extension": ".py",
   "mimetype": "text/x-python",
   "name": "python",
   "nbconvert_exporter": "python",
   "pygments_lexer": "ipython3",
   "version": "3.12.3"
  }
 },
 "nbformat": 4,
 "nbformat_minor": 2
}
