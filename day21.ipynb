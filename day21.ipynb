{
 "cells": [
  {
   "cell_type": "markdown",
   "metadata": {},
   "source": [
    "Question NO. 1 Give a simple coding example on multiple and multilevel \n",
    "inheritance in python."
   ]
  },
  {
   "cell_type": "code",
   "execution_count": 24,
   "metadata": {},
   "outputs": [
    {
     "name": "stdout",
     "output_type": "stream",
     "text": [
      "it is base class 1\n",
      "it is base class 2\n",
      "it is derrived  class\n"
     ]
    }
   ],
   "source": [
    "##multiple inheritance\n",
    "class Base1:\n",
    "    def base1(self):\n",
    "        print(\"it is base class 1\")\n",
    "\n",
    "class Base2:\n",
    "\n",
    "    def base2(self):\n",
    "        print(\"it is base class 2\")    \n",
    "\n",
    "class Derrived(Base1,Base2):\n",
    "\n",
    "    def derrived(self):\n",
    "\n",
    "        print(\"it is derrived  class\")\n",
    "\n",
    "obj=Derrived()\n",
    "obj.base1()\n",
    "obj.base2()\n",
    "obj.derrived()\n",
    "\n"
   ]
  },
  {
   "cell_type": "code",
   "execution_count": 25,
   "metadata": {},
   "outputs": [
    {
     "name": "stdout",
     "output_type": "stream",
     "text": [
      "it is base class 1\n",
      "it is base class 2\n",
      "it is base class 1\n",
      "it is base class 2\n",
      "it is base class 3\n"
     ]
    }
   ],
   "source": [
    "#multiple inheritance\n",
    "class Base1:\n",
    "    def base1(self):\n",
    "        print(\"it is base class 1\")\n",
    "\n",
    "class Base2(Base1):\n",
    "    def base2(self):\n",
    "        print(\"it is base class 2\")    \n",
    "\n",
    "class Base3(Base2):\n",
    "    def base3(self):\n",
    "        print(\"it is base class 3\")\n",
    "\n",
    "obj1 = Base2()\n",
    "obj1.base1()\n",
    "obj1.base2()\n",
    "\n",
    "obj = Base3()\n",
    "obj.base1()\n",
    "obj.base2()\n",
    "obj.base3()\n"
   ]
  },
  {
   "cell_type": "markdown",
   "metadata": {},
   "source": [
    "Question No. 2 Write a function of python that takes the confusion matrix output \n",
    "as an input, and return the precision and recall score."
   ]
  },
  {
   "cell_type": "markdown",
   "metadata": {},
   "source": [
    "![alt text](download.jpg)"
   ]
  },
  {
   "cell_type": "markdown",
   "metadata": {},
   "source": [
    "![alt text](OIP.jpg)"
   ]
  },
  {
   "cell_type": "code",
   "execution_count": 26,
   "metadata": {},
   "outputs": [
    {
     "name": "stdout",
     "output_type": "stream",
     "text": [
      "recall score-> 0.3445378151260504\n"
     ]
    }
   ],
   "source": [
    "import numpy as np\n",
    "\n",
    "def recallscore(a):\n",
    "    y=a[0,0]/(a[0,0]+a[1,0])\n",
    "    print(\"recall score->\",y)\n",
    "\n",
    "\n",
    "a=np.array([[123,456],[234,567]])    \n",
    "a\n",
    "\n",
    "recallscore(a)\n"
   ]
  },
  {
   "cell_type": "code",
   "execution_count": 27,
   "metadata": {},
   "outputs": [
    {
     "name": "stdout",
     "output_type": "stream",
     "text": [
      "precision score-> 0.21243523316062177\n"
     ]
    }
   ],
   "source": [
    "def precisionscore(a):\n",
    "    y=a[0,0]/(a[0,0]+a[0,1])\n",
    "    print(\"precision score->\",y)\n",
    "\n",
    "\n",
    "a=np.array([[123,456],[234,567]])    \n",
    "a\n",
    "\n",
    "precisionscore(a)"
   ]
  },
  {
   "cell_type": "markdown",
   "metadata": {},
   "source": [
    "Question NO.3 Make a confusion matrix on this given above dataset, and count \n",
    "TP,FP ,FN,TN are in the given example. Don’t need to perform \n",
    "code, just count manually all the components of confusion matrix."
   ]
  },
  {
   "attachments": {
    "image.png": {
     "image/png": "[encoded data removed]"
    }
   },
   "cell_type": "markdown",
   "metadata": {},
   "source": [
    "![image.png](attachment:image.png)"
   ]
  },
  {
   "cell_type": "markdown",
   "metadata": {},
   "source": [
    "TP=1,FP=1,FN2=,TN=1 "
   ]
  }
 ],
 "metadata": {
  "kernelspec": {
   "display_name": "Python 3",
   "language": "python",
   "name": "python3"
  },
  "language_info": {
   "codemirror_mode": {
    "name": "ipython",
    "version": 3
   },
   "file_extension": ".py",
   "mimetype": "text/x-python",
   "name": "python",
   "nbconvert_exporter": "python",
   "pygments_lexer": "ipython3",
   "version": "3.12.3"
  }
 },
 "nbformat": 4,
 "nbformat_minor": 2
}
